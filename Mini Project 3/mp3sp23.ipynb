{
  "nbformat": 4,
  "nbformat_minor": 0,
  "metadata": {
    "colab": {
      "provenance": []
    },
    "kernelspec": {
      "name": "python3",
      "display_name": "Python 3"
    },
    "language_info": {
      "name": "python"
    }
  },
  "cells": [
    {
      "cell_type": "code",
      "execution_count": 2,
      "metadata": {
        "colab": {
          "base_uri": "https://localhost:8080/"
        },
        "id": "fo_Qp6ANMQ3K",
        "outputId": "a69d943a-c285-488e-94d2-88177305d0c2"
      },
      "outputs": [
        {
          "output_type": "stream",
          "name": "stdout",
          "text": [
            "Looking in indexes: https://pypi.org/simple, https://us-python.pkg.dev/colab-wheels/public/simple/\n",
            "Collecting simpy\n",
            "  Downloading simpy-4.0.1-py2.py3-none-any.whl (29 kB)\n",
            "Installing collected packages: simpy\n",
            "Successfully installed simpy-4.0.1\n"
          ]
        }
      ],
      "source": [
        "!pip install simpy"
      ]
    },
    {
      "cell_type": "code",
      "source": [
        "import numpy as np\n",
        "import pandas as pd\n",
        "import simpy\n",
        "import random\n",
        "import scipy.stats as st"
      ],
      "metadata": {
        "id": "bUK1CPv-MYCJ"
      },
      "execution_count": 3,
      "outputs": []
    },
    {
      "cell_type": "code",
      "source": [
        "SIMULATION_TIME = 1440 # minutes in a day\n",
        "STATIONS_COUNT = 81\n",
        "INIT_BIKES_PER_STATION = 10\n",
        "RIDERS_COUNT = 3500\n",
        "LAMBDA = 2.38\n",
        "MEAN_TRIP = 2.78\n",
        "STD_DEV_TRIP = 0.619"
      ],
      "metadata": {
        "id": "6tGt5pPIMxtT"
      },
      "execution_count": 6,
      "outputs": []
    },
    {
      "cell_type": "code",
      "source": [
        "start_station_probs_df = pd.read_csv(\"start_station_probs.csv\")\n",
        "trip_stats_df = pd.read_csv(\"trip_stats.csv\")\n",
        "start_station_totals = trip_stats_df.groupby('start')['count'].sum()\n",
        "trip_stats_df.reset_index()\n",
        "averages = []\n",
        "for index, row in trip_stats_df.iterrows():\n",
        "  s = row['start']\n",
        "  x = row['count'] / start_station_totals.loc[s]\n",
        "  averages.append(x)\n",
        "trip_stats_df['average'] = averages\n",
        "trip_stats_df = trip_stats_df.drop(columns=['mean', 'std'])\n",
        "trip_stats_df"
      ],
      "metadata": {
        "colab": {
          "base_uri": "https://localhost:8080/",
          "height": 423
        },
        "id": "LXaG6zCENUmU",
        "outputId": "8ebfa622-16f7-42a8-9ca1-adae713bc597"
      },
      "execution_count": 7,
      "outputs": [
        {
          "output_type": "execute_result",
          "data": {
            "text/plain": [
              "                      start                                end  count  \\\n",
              "0     11 St & Washington St              11 St & Washington St    142   \n",
              "1     11 St & Washington St               12 St & Sinatra Dr N     44   \n",
              "2     11 St & Washington St  14 St Ferry - 14 St & Shipyard Ln     48   \n",
              "3     11 St & Washington St                    4 St & Grand St     47   \n",
              "4     11 St & Washington St                    6 St & Grand St     25   \n",
              "...                     ...                                ...    ...   \n",
              "5141     Willow Ave & 12 St         Stevens - River Ter & 6 St     23   \n",
              "5142     Willow Ave & 12 St           Vesey Pl & River Terrace      1   \n",
              "5143     Willow Ave & 12 St                          Warren St      7   \n",
              "5144     Willow Ave & 12 St                      Washington St     11   \n",
              "5145     Willow Ave & 12 St                 Willow Ave & 12 St     50   \n",
              "\n",
              "       average  \n",
              "0     0.078151  \n",
              "1     0.024216  \n",
              "2     0.026417  \n",
              "3     0.025867  \n",
              "4     0.013759  \n",
              "...        ...  \n",
              "5141  0.022352  \n",
              "5142  0.000972  \n",
              "5143  0.006803  \n",
              "5144  0.010690  \n",
              "5145  0.048591  \n",
              "\n",
              "[5146 rows x 4 columns]"
            ],
            "text/html": [
              "\n",
              "  <div id=\"df-03b59efa-d1b3-4924-ba79-1ade4e6af263\">\n",
              "    <div class=\"colab-df-container\">\n",
              "      <div>\n",
              "<style scoped>\n",
              "    .dataframe tbody tr th:only-of-type {\n",
              "        vertical-align: middle;\n",
              "    }\n",
              "\n",
              "    .dataframe tbody tr th {\n",
              "        vertical-align: top;\n",
              "    }\n",
              "\n",
              "    .dataframe thead th {\n",
              "        text-align: right;\n",
              "    }\n",
              "</style>\n",
              "<table border=\"1\" class=\"dataframe\">\n",
              "  <thead>\n",
              "    <tr style=\"text-align: right;\">\n",
              "      <th></th>\n",
              "      <th>start</th>\n",
              "      <th>end</th>\n",
              "      <th>count</th>\n",
              "      <th>average</th>\n",
              "    </tr>\n",
              "  </thead>\n",
              "  <tbody>\n",
              "    <tr>\n",
              "      <th>0</th>\n",
              "      <td>11 St &amp; Washington St</td>\n",
              "      <td>11 St &amp; Washington St</td>\n",
              "      <td>142</td>\n",
              "      <td>0.078151</td>\n",
              "    </tr>\n",
              "    <tr>\n",
              "      <th>1</th>\n",
              "      <td>11 St &amp; Washington St</td>\n",
              "      <td>12 St &amp; Sinatra Dr N</td>\n",
              "      <td>44</td>\n",
              "      <td>0.024216</td>\n",
              "    </tr>\n",
              "    <tr>\n",
              "      <th>2</th>\n",
              "      <td>11 St &amp; Washington St</td>\n",
              "      <td>14 St Ferry - 14 St &amp; Shipyard Ln</td>\n",
              "      <td>48</td>\n",
              "      <td>0.026417</td>\n",
              "    </tr>\n",
              "    <tr>\n",
              "      <th>3</th>\n",
              "      <td>11 St &amp; Washington St</td>\n",
              "      <td>4 St &amp; Grand St</td>\n",
              "      <td>47</td>\n",
              "      <td>0.025867</td>\n",
              "    </tr>\n",
              "    <tr>\n",
              "      <th>4</th>\n",
              "      <td>11 St &amp; Washington St</td>\n",
              "      <td>6 St &amp; Grand St</td>\n",
              "      <td>25</td>\n",
              "      <td>0.013759</td>\n",
              "    </tr>\n",
              "    <tr>\n",
              "      <th>...</th>\n",
              "      <td>...</td>\n",
              "      <td>...</td>\n",
              "      <td>...</td>\n",
              "      <td>...</td>\n",
              "    </tr>\n",
              "    <tr>\n",
              "      <th>5141</th>\n",
              "      <td>Willow Ave &amp; 12 St</td>\n",
              "      <td>Stevens - River Ter &amp; 6 St</td>\n",
              "      <td>23</td>\n",
              "      <td>0.022352</td>\n",
              "    </tr>\n",
              "    <tr>\n",
              "      <th>5142</th>\n",
              "      <td>Willow Ave &amp; 12 St</td>\n",
              "      <td>Vesey Pl &amp; River Terrace</td>\n",
              "      <td>1</td>\n",
              "      <td>0.000972</td>\n",
              "    </tr>\n",
              "    <tr>\n",
              "      <th>5143</th>\n",
              "      <td>Willow Ave &amp; 12 St</td>\n",
              "      <td>Warren St</td>\n",
              "      <td>7</td>\n",
              "      <td>0.006803</td>\n",
              "    </tr>\n",
              "    <tr>\n",
              "      <th>5144</th>\n",
              "      <td>Willow Ave &amp; 12 St</td>\n",
              "      <td>Washington St</td>\n",
              "      <td>11</td>\n",
              "      <td>0.010690</td>\n",
              "    </tr>\n",
              "    <tr>\n",
              "      <th>5145</th>\n",
              "      <td>Willow Ave &amp; 12 St</td>\n",
              "      <td>Willow Ave &amp; 12 St</td>\n",
              "      <td>50</td>\n",
              "      <td>0.048591</td>\n",
              "    </tr>\n",
              "  </tbody>\n",
              "</table>\n",
              "<p>5146 rows × 4 columns</p>\n",
              "</div>\n",
              "      <button class=\"colab-df-convert\" onclick=\"convertToInteractive('df-03b59efa-d1b3-4924-ba79-1ade4e6af263')\"\n",
              "              title=\"Convert this dataframe to an interactive table.\"\n",
              "              style=\"display:none;\">\n",
              "        \n",
              "  <svg xmlns=\"http://www.w3.org/2000/svg\" height=\"24px\"viewBox=\"0 0 24 24\"\n",
              "       width=\"24px\">\n",
              "    <path d=\"M0 0h24v24H0V0z\" fill=\"none\"/>\n",
              "    <path d=\"M18.56 5.44l.94 2.06.94-2.06 2.06-.94-2.06-.94-.94-2.06-.94 2.06-2.06.94zm-11 1L8.5 8.5l.94-2.06 2.06-.94-2.06-.94L8.5 2.5l-.94 2.06-2.06.94zm10 10l.94 2.06.94-2.06 2.06-.94-2.06-.94-.94-2.06-.94 2.06-2.06.94z\"/><path d=\"M17.41 7.96l-1.37-1.37c-.4-.4-.92-.59-1.43-.59-.52 0-1.04.2-1.43.59L10.3 9.45l-7.72 7.72c-.78.78-.78 2.05 0 2.83L4 21.41c.39.39.9.59 1.41.59.51 0 1.02-.2 1.41-.59l7.78-7.78 2.81-2.81c.8-.78.8-2.07 0-2.86zM5.41 20L4 18.59l7.72-7.72 1.47 1.35L5.41 20z\"/>\n",
              "  </svg>\n",
              "      </button>\n",
              "      \n",
              "  <style>\n",
              "    .colab-df-container {\n",
              "      display:flex;\n",
              "      flex-wrap:wrap;\n",
              "      gap: 12px;\n",
              "    }\n",
              "\n",
              "    .colab-df-convert {\n",
              "      background-color: #E8F0FE;\n",
              "      border: none;\n",
              "      border-radius: 50%;\n",
              "      cursor: pointer;\n",
              "      display: none;\n",
              "      fill: #1967D2;\n",
              "      height: 32px;\n",
              "      padding: 0 0 0 0;\n",
              "      width: 32px;\n",
              "    }\n",
              "\n",
              "    .colab-df-convert:hover {\n",
              "      background-color: #E2EBFA;\n",
              "      box-shadow: 0px 1px 2px rgba(60, 64, 67, 0.3), 0px 1px 3px 1px rgba(60, 64, 67, 0.15);\n",
              "      fill: #174EA6;\n",
              "    }\n",
              "\n",
              "    [theme=dark] .colab-df-convert {\n",
              "      background-color: #3B4455;\n",
              "      fill: #D2E3FC;\n",
              "    }\n",
              "\n",
              "    [theme=dark] .colab-df-convert:hover {\n",
              "      background-color: #434B5C;\n",
              "      box-shadow: 0px 1px 3px 1px rgba(0, 0, 0, 0.15);\n",
              "      filter: drop-shadow(0px 1px 2px rgba(0, 0, 0, 0.3));\n",
              "      fill: #FFFFFF;\n",
              "    }\n",
              "  </style>\n",
              "\n",
              "      <script>\n",
              "        const buttonEl =\n",
              "          document.querySelector('#df-03b59efa-d1b3-4924-ba79-1ade4e6af263 button.colab-df-convert');\n",
              "        buttonEl.style.display =\n",
              "          google.colab.kernel.accessAllowed ? 'block' : 'none';\n",
              "\n",
              "        async function convertToInteractive(key) {\n",
              "          const element = document.querySelector('#df-03b59efa-d1b3-4924-ba79-1ade4e6af263');\n",
              "          const dataTable =\n",
              "            await google.colab.kernel.invokeFunction('convertToInteractive',\n",
              "                                                     [key], {});\n",
              "          if (!dataTable) return;\n",
              "\n",
              "          const docLinkHtml = 'Like what you see? Visit the ' +\n",
              "            '<a target=\"_blank\" href=https://colab.research.google.com/notebooks/data_table.ipynb>data table notebook</a>'\n",
              "            + ' to learn more about interactive tables.';\n",
              "          element.innerHTML = '';\n",
              "          dataTable['output_type'] = 'display_data';\n",
              "          await google.colab.output.renderOutput(dataTable, element);\n",
              "          const docLink = document.createElement('div');\n",
              "          docLink.innerHTML = docLinkHtml;\n",
              "          element.appendChild(docLink);\n",
              "        }\n",
              "      </script>\n",
              "    </div>\n",
              "  </div>\n",
              "  "
            ]
          },
          "metadata": {},
          "execution_count": 7
        }
      ]
    },
    {
      "cell_type": "code",
      "source": [
        "p_i_j = trip_stats_df['average'].to_numpy()\n",
        "stations = start_station_probs_df.iloc[:,0].to_numpy()\n",
        "q_i_j = np.zeros((81,81))\n",
        "for i in range(q_i_j.shape[0]):\n",
        "  for j in range(q_i_j.shape[1]):\n",
        "    try:\n",
        "      q_i_j[i][j] = trip_stats_df.loc[(trip_stats_df['start'] == stations[i]) & (trip_stats_df['end'] == stations[j])]['average'].iloc[0]\n",
        "    except:\n",
        "      q_i_j[i][j] = 0\n",
        "END_PROBABILITIES = q_i_j.tolist()\n",
        "STATIONS_PROBABILITIES = start_station_probs_df.iloc[:, 1].to_numpy().tolist()"
      ],
      "metadata": {
        "id": "lOeogr8vb8Yr"
      },
      "execution_count": 8,
      "outputs": []
    },
    {
      "cell_type": "code",
      "source": [
        "class Simulation:\n",
        "  def __init__(self, env):\n",
        "    self.env = env\n",
        "    self.total = 0\n",
        "    self.success_rental = 0\n",
        "    self.wait_time = 0\n",
        "\n",
        "  def bike_station(self, env, station):\n",
        "    yield self.env.timeout(random.expovariate(LAMBDA))\n",
        "    start_time = self.env.now\n",
        "    self.total += 1\n",
        "    station_index = random.choices(range(STATIONS_COUNT), STATIONS_PROBABILITIES)[0]\n",
        "    while bikes[station_index] == 0:\n",
        "      yield self.env.timeout(1)\n",
        "    end_time = self.env.now\n",
        "    bikes[station_index] -= 1\n",
        "    self.success_rental += 1\n",
        "    self.wait_time += (end_time - start_time)\n",
        "    end_index = random.choices(range(STATIONS_COUNT), END_PROBABILITIES[station_index])[0]\n",
        "    self.env.process(self.return_bike(station_index, end_index))\n",
        "\n",
        "  def return_bike(self, station_id, end_index):\n",
        "    trip_time = random.lognormvariate(MEAN_TRIP, STD_DEV_TRIP)\n",
        "    yield self.env.timeout(trip_time)\n",
        "    bikes[end_index] += 1\n"
      ],
      "metadata": {
        "id": "i1KUNIjJdRQw"
      },
      "execution_count": 9,
      "outputs": []
    },
    {
      "cell_type": "code",
      "source": [
        "success_rentals_list = []\n",
        "average_wait_time_list = []\n",
        "for i in range(100):\n",
        "  env = simpy.Environment()\n",
        "  sim = Simulation(env)\n",
        "\n",
        "  stations = [simpy.Resource(env) for _ in range(STATIONS_COUNT)]\n",
        "  bikes = [INIT_BIKES_PER_STATION for _ in range(STATIONS_COUNT)]\n",
        "\n",
        "  for i in range(RIDERS_COUNT):\n",
        "    env.process(sim.bike_station(env, i))\n",
        "\n",
        "  env.run(until=SIMULATION_TIME)\n",
        "  success_rentals_list.append(sim.success_rental/ sim.total)\n",
        "  average_wait_time_list.append(sim.wait_time / sim.success_rental) "
      ],
      "metadata": {
        "id": "PvJ9fjzdoY8E"
      },
      "execution_count": 28,
      "outputs": []
    },
    {
      "cell_type": "code",
      "source": [
        "success_rentals_df = pd.DataFrame(success_rentals_list)\n",
        "print(success_rentals_df.mean())\n",
        "success_rentals_conf_interval = st.t.interval(confidence=0.9, df=len(success_rentals_df)-1, loc=success_rentals_df.mean(), scale=st.sem(success_rentals_df))\n",
        "print(success_rentals_conf_interval[0][0])\n",
        "print(success_rentals_conf_interval[1][0])\n",
        "\n",
        "average_wait_time_df = pd.DataFrame(average_wait_time_list)\n",
        "average_wait_time_conf_interval = st.t.interval(confidence=0.9, df=len(average_wait_time_df)-1, loc=average_wait_time_df.mean(), scale=st.sem(average_wait_time_df))\n",
        "print(average_wait_time_conf_interval[0][0])\n",
        "print(average_wait_time_conf_interval[1][0])\n",
        "print(average_wait_time_df.mean())"
      ],
      "metadata": {
        "colab": {
          "base_uri": "https://localhost:8080/"
        },
        "id": "IMfgRNp541MF",
        "outputId": "fdf1723e-a813-442c-8cd6-344a85fd9006"
      },
      "execution_count": 31,
      "outputs": [
        {
          "output_type": "stream",
          "name": "stdout",
          "text": [
            "0    0.983014\n",
            "dtype: float64\n",
            "0.9818892013022361\n",
            "0.9841393701263353\n",
            "34.566191830681085\n",
            "34.87290634009903\n",
            "0    34.719549\n",
            "dtype: float64\n"
          ]
        }
      ]
    }
  ]
}